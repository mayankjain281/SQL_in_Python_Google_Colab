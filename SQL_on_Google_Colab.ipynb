{
  "nbformat": 4,
  "nbformat_minor": 0,
  "metadata": {
    "colab": {
      "provenance": [],
      "include_colab_link": true
    },
    "kernelspec": {
      "name": "python3",
      "display_name": "Python 3"
    }
  },
  "cells": [
    {
      "cell_type": "markdown",
      "metadata": {
        "id": "view-in-github",
        "colab_type": "text"
      },
      "source": [
        "<a href=\"https://colab.research.google.com/github/mayankjain281/SQL_in_Python_Google_Colab/blob/main/SQL_on_Google_Colab.ipynb\" target=\"_parent\"><img src=\"https://colab.research.google.com/assets/colab-badge.svg\" alt=\"Open In Colab\"/></a>"
      ]
    },
    {
      "cell_type": "code",
      "metadata": {
        "id": "g4VtP4f1AZl_"
      },
      "source": [
        "# In case you are importing file from Drive\n",
        "from google.colab import drive\n",
        "drive.mount('/content/drive')"
      ],
      "execution_count": null,
      "outputs": []
    },
    {
      "cell_type": "code",
      "metadata": {
        "id": "kAZWryuIDXCi"
      },
      "source": [
        "# In case you are importing file form Desktop\n",
        "from sqlalchemy import create_engine\n",
        "my_conn = create_engine(\"sqlite://///content/my_db.db\")"
      ],
      "execution_count": null,
      "outputs": []
    },
    {
      "cell_type": "code",
      "metadata": {
        "id": "Qh8WbqqfIzCm",
        "colab": {
          "base_uri": "https://localhost:8080/"
        },
        "outputId": "df30cd97-c72a-479b-ea52-92388375faf8"
      },
      "source": [
        "r_set=my_conn.execute('''SELECT * from student''');\n",
        "for row in r_set:\n",
        "    print(row)"
      ],
      "execution_count": null,
      "outputs": [
        {
          "output_type": "stream",
          "name": "stdout",
          "text": [
            "(1, 'John Deo', 'Four', 75, 'female')\n",
            "(2, 'Max Ruin', 'Three', 85, 'male')\n",
            "(3, 'Arnold', 'Three', 55, 'male')\n",
            "(4, 'Krish Star', 'Four', 60, 'female')\n",
            "(5, 'John Mike', 'Four', 60, 'female')\n",
            "(6, 'Alex John', 'Four', 55, 'male')\n",
            "(7, 'My John Rob', 'Five', 78, 'male')\n",
            "(8, 'Asruid', 'Five', 85, 'male')\n",
            "(9, 'Tes Qry', 'Six', 78, 'male')\n",
            "(10, 'Big John', 'Four', 55, 'female')\n",
            "(11, 'Ronald', 'Six', 89, 'female')\n",
            "(12, 'Recky', 'Six', 94, 'female')\n",
            "(13, 'Kty', 'Seven', 88, 'female')\n",
            "(14, 'Bigy', 'Seven', 88, 'female')\n",
            "(15, 'Tade Row', 'Four', 88, 'male')\n",
            "(16, 'Gimmy', 'Four', 88, 'male')\n",
            "(17, 'Tumyu', 'Six', 54, 'male')\n",
            "(18, 'Honny', 'Five', 75, 'male')\n",
            "(19, 'Tinny', 'Nine', 18, 'male')\n",
            "(20, 'Jackly', 'Nine', 65, 'female')\n",
            "(21, 'Babby John', 'Four', 69, 'female')\n",
            "(22, 'Reggid', 'Seven', 55, 'female')\n",
            "(23, 'Herod', 'Eight', 79, 'male')\n",
            "(24, 'Tiddy Now', 'Seven', 78, 'male')\n",
            "(25, 'Giff Tow', 'Seven', 88, 'male')\n",
            "(26, 'Crelea', 'Seven', 79, 'male')\n",
            "(27, 'Big Nose', 'Three', 81, 'female')\n",
            "(28, 'Rojj Base', 'Seven', 86, 'female')\n",
            "(29, 'Tess Played', 'Seven', 55, 'male')\n",
            "(30, 'Reppy Red', 'Six', 79, 'female')\n",
            "(31, 'Marry Toeey', 'Four', 88, 'male')\n",
            "(32, 'Binn Rott', 'Seven', 90, 'female')\n",
            "(33, 'Kenn Rein', 'Six', 96, 'female')\n",
            "(34, 'Gain Toe', 'Seven', 69, 'male')\n",
            "(35, 'Rows Noump', 'Six', 88, 'female')\n"
          ]
        },
        {
          "output_type": "stream",
          "name": "stderr",
          "text": [
            "<ipython-input-2-a32e416b215f>:1: RemovedIn20Warning: Deprecated API features detected! These feature(s) are not compatible with SQLAlchemy 2.0. To prevent incompatible upgrades prior to updating applications, ensure requirements files are pinned to \"sqlalchemy<2.0\". Set environment variable SQLALCHEMY_WARN_20=1 to show all deprecation warnings.  Set environment variable SQLALCHEMY_SILENCE_UBER_WARNING=1 to silence this message. (Background on SQLAlchemy 2.0 at: https://sqlalche.me/e/b8d9)\n",
            "  r_set=my_conn.execute('''SELECT * from student''');\n"
          ]
        }
      ]
    },
    {
      "cell_type": "code",
      "metadata": {
        "id": "WUBUDG6ZAsjh",
        "colab": {
          "base_uri": "https://localhost:8080/"
        },
        "outputId": "fd32a817-f08e-4cce-bf8d-16bcfb185a64"
      },
      "source": [
        "# display all records of perticular class only\n",
        "q=\"SELECT id, name, class, mark, sex FROM student WHERE class='Four'\"\n",
        "my_cursor=my_conn.execute(q)\n",
        "for row in my_cursor:\n",
        "  print(row)"
      ],
      "execution_count": null,
      "outputs": [
        {
          "output_type": "stream",
          "name": "stdout",
          "text": [
            "(1, 'John Deo', 'Four', 75, 'female')\n",
            "(4, 'Krish Star', 'Four', 60, 'female')\n",
            "(5, 'John Mike', 'Four', 60, 'female')\n",
            "(6, 'Alex John', 'Four', 55, 'male')\n",
            "(10, 'Big John', 'Four', 55, 'female')\n",
            "(15, 'Tade Row', 'Four', 88, 'male')\n",
            "(16, 'Gimmy', 'Four', 88, 'male')\n",
            "(21, 'Babby John', 'Four', 69, 'female')\n",
            "(31, 'Marry Toeey', 'Four', 88, 'male')\n"
          ]
        }
      ]
    },
    {
      "cell_type": "code",
      "metadata": {
        "id": "BSiehzTBA58m",
        "colab": {
          "base_uri": "https://localhost:8080/"
        },
        "outputId": "ca6bfa5a-6017-4eab-c7e8-28de7747efb1"
      },
      "source": [
        "# select records based on a perticular class\n",
        "# display returned data type and Number of records\n",
        "q=\"SELECT id, name, class, mark, sex FROM student WHERE class='Four' \"\n",
        "my_cursor=my_conn.execute(q)\n",
        "data_row=my_cursor.fetchall()\n",
        "print(type(data_row))\n",
        "print(\"No of records : \",len(data_row))"
      ],
      "execution_count": null,
      "outputs": [
        {
          "output_type": "stream",
          "name": "stdout",
          "text": [
            "<class 'list'>\n",
            "No of records :  9\n"
          ]
        }
      ]
    },
    {
      "cell_type": "code",
      "metadata": {
        "id": "dvsBj170BbDb",
        "colab": {
          "base_uri": "https://localhost:8080/"
        },
        "outputId": "254712e9-5cde-4bc4-cdd9-fcca483579fc"
      },
      "source": [
        "# select record based on Id\n",
        "q=\"SELECT id, name, class, mark, sex FROM student WHERE id=8 \"\n",
        "my_cursor=my_conn.execute(q)\n",
        "data_row=my_cursor.fetchone()\n",
        "#print(type(data_row))\n",
        "print(data_row[0],data_row[1],data_row[3])"
      ],
      "execution_count": null,
      "outputs": [
        {
          "output_type": "stream",
          "name": "stdout",
          "text": [
            "8 Asruid 85\n"
          ]
        }
      ]
    },
    {
      "cell_type": "code",
      "metadata": {
        "id": "WPwMkLobBc_5",
        "colab": {
          "base_uri": "https://localhost:8080/"
        },
        "outputId": "cde309cc-cd94-416e-9029-c5a27c9963cf"
      },
      "source": [
        "# Show 10 records only\n",
        "q=\"SELECT id, name, class, mark, sex FROM student limit 0,10 \"\n",
        "my_cursor=my_conn.execute(q)\n",
        "data_row=my_cursor.fetchall()\n",
        "print(type(data_row))\n",
        "print(\"No of records : \",len(data_row))\n",
        "for row in data_row:\n",
        "  print(row)"
      ],
      "execution_count": null,
      "outputs": [
        {
          "output_type": "stream",
          "name": "stdout",
          "text": [
            "<class 'list'>\n",
            "No of records :  10\n",
            "(1, 'John Deo', 'Four', 75, 'female')\n",
            "(2, 'Max Ruin', 'Three', 85, 'male')\n",
            "(3, 'Arnold', 'Three', 55, 'male')\n",
            "(4, 'Krish Star', 'Four', 60, 'female')\n",
            "(5, 'John Mike', 'Four', 60, 'female')\n",
            "(6, 'Alex John', 'Four', 55, 'male')\n",
            "(7, 'My John Rob', 'Five', 78, 'male')\n",
            "(8, 'Asruid', 'Five', 85, 'male')\n",
            "(9, 'Tes Qry', 'Six', 78, 'male')\n",
            "(10, 'Big John', 'Four', 55, 'female')\n"
          ]
        }
      ]
    },
    {
      "cell_type": "code",
      "source": [
        "# printing records using WHERE query, parameterized query\n",
        "my_data=('Four',)\n",
        "q=\"SELECT id, name, class, mark, sex FROM student WHERE class=?\"\n",
        "my_cursor=my_conn.execute(q,my_data)\n",
        "data_row=my_cursor.fetchall()\n",
        "for row in data_row:\n",
        "  print(row)"
      ],
      "metadata": {
        "colab": {
          "base_uri": "https://localhost:8080/"
        },
        "id": "-ujqSAyNm389",
        "outputId": "9e5ad990-0b06-4cb5-9674-999e3dcc00dc"
      },
      "execution_count": null,
      "outputs": [
        {
          "output_type": "stream",
          "name": "stdout",
          "text": [
            "(1, 'John Deo', 'Four', 75, 'female')\n",
            "(4, 'Krish Star', 'Four', 60, 'female')\n",
            "(5, 'John Mike', 'Four', 60, 'female')\n",
            "(6, 'Alex John', 'Four', 55, 'male')\n",
            "(10, 'Big John', 'Four', 55, 'female')\n",
            "(15, 'Tade Row', 'Four', 88, 'male')\n",
            "(16, 'Gimmy', 'Four', 88, 'male')\n",
            "(21, 'Babby John', 'Four', 69, 'female')\n",
            "(31, 'Marry Toeey', 'Four', 88, 'male')\n"
          ]
        }
      ]
    },
    {
      "cell_type": "code",
      "source": [
        "# printing records using WHERE condition, parameterized query\n",
        "my_data=('Four','Three')\n",
        "q=\"SELECT id, name, class, mark, sex FROM student WHERE class=? OR class=?\"\n",
        "my_cursor=my_conn.execute(q,my_data)\n",
        "data_row=my_cursor.fetchall()\n",
        "for row in data_row:\n",
        "  print(row)"
      ],
      "metadata": {
        "colab": {
          "base_uri": "https://localhost:8080/"
        },
        "id": "4a3VHTkQm7_l",
        "outputId": "bc76e84a-a330-4f4b-9ca3-6ae2061f1004"
      },
      "execution_count": null,
      "outputs": [
        {
          "output_type": "stream",
          "name": "stdout",
          "text": [
            "(1, 'John Deo', 'Four', 75, 'female')\n",
            "(2, 'Max Ruin', 'Three', 85, 'male')\n",
            "(3, 'Arnold', 'Three', 55, 'male')\n",
            "(4, 'Krish Star', 'Four', 60, 'female')\n",
            "(5, 'John Mike', 'Four', 60, 'female')\n",
            "(6, 'Alex John', 'Four', 55, 'male')\n",
            "(10, 'Big John', 'Four', 55, 'female')\n",
            "(15, 'Tade Row', 'Four', 88, 'male')\n",
            "(16, 'Gimmy', 'Four', 88, 'male')\n",
            "(21, 'Babby John', 'Four', 69, 'female')\n",
            "(27, 'Big Nose', 'Three', 81, 'female')\n",
            "(31, 'Marry Toeey', 'Four', 88, 'male')\n"
          ]
        }
      ]
    },
    {
      "cell_type": "code",
      "source": [
        "# getting record by using id \n",
        "my_data=(8)\n",
        "q=\"SELECT id, name, class, mark, sex FROM student WHERE id=?\"\n",
        "my_cursor=my_conn.execute(q,my_data)\n",
        "data_row=my_cursor.fetchall()\n",
        "for row in data_row:\n",
        "  print(row)"
      ],
      "metadata": {
        "colab": {
          "base_uri": "https://localhost:8080/"
        },
        "id": "J_QjUDx7m-Uc",
        "outputId": "c6576fc0-b9d3-4970-97f7-8df78103cc45"
      },
      "execution_count": null,
      "outputs": [
        {
          "output_type": "stream",
          "name": "stdout",
          "text": [
            "(8, 'Asruid', 'Five', 85, 'male')\n"
          ]
        }
      ]
    },
    {
      "cell_type": "code",
      "source": [
        "# records of class four and mark more than or equal to 80\n",
        "my_data=('Four',80)\n",
        "q=\"SELECT id, name, class, mark, sex FROM student WHERE class=? and mark >= ? \"\n",
        "my_cursor=my_conn.execute(q,my_data)\n",
        "data_row=my_cursor.fetchall()\n",
        "for row in data_row:\n",
        "  print(row)"
      ],
      "metadata": {
        "colab": {
          "base_uri": "https://localhost:8080/"
        },
        "id": "vjZNEJmXnAY3",
        "outputId": "f62f8d57-1153-414a-8df9-72754731fe0d"
      },
      "execution_count": null,
      "outputs": [
        {
          "output_type": "stream",
          "name": "stdout",
          "text": [
            "(15, 'Tade Row', 'Four', 88, 'male')\n",
            "(16, 'Gimmy', 'Four', 88, 'male')\n",
            "(31, 'Marry Toeey', 'Four', 88, 'male')\n"
          ]
        }
      ]
    },
    {
      "cell_type": "code",
      "source": [
        "# asking user input as id to display the record\n",
        "id=input(\"Enter the student id : \")\n",
        "my_data=(id)\n",
        "q=\"SELECT id, name, class, mark, sex FROM student WHERE id=?\"\n",
        "my_cursor=my_conn.execute(q,my_data)\n",
        "data_row=my_cursor.fetchall()\n",
        "if(len(data_row)==0):\n",
        "  print(\"No record found\")\n",
        "else:\n",
        "  for row in data_row:\n",
        "    print(row)"
      ],
      "metadata": {
        "colab": {
          "base_uri": "https://localhost:8080/"
        },
        "id": "8TSvLdlNnDNz",
        "outputId": "b37b831a-a45a-429e-b289-69ab12847ba5"
      },
      "execution_count": null,
      "outputs": [
        {
          "output_type": "stream",
          "name": "stdout",
          "text": [
            "Enter the student id : 31\n",
            "(31, 'Marry Toeey', 'Four', 88, 'male')\n"
          ]
        }
      ]
    },
    {
      "cell_type": "code",
      "source": [
        "# getting the id of the inserted record\n",
        "my_data=(None,'Fifth Name','Five',75,'male')\n",
        "my_query=\"INSERT INTO student values(?,?,?,?,?) \"\n",
        "result=my_conn.execute(my_query,my_data)\n",
        "print(result.lastrowid)"
      ],
      "metadata": {
        "colab": {
          "base_uri": "https://localhost:8080/"
        },
        "id": "hDVQ9TXenI5d",
        "outputId": "271c61bd-985c-464c-e311-093b43799d89"
      },
      "execution_count": null,
      "outputs": [
        {
          "output_type": "stream",
          "name": "stdout",
          "text": [
            "36\n"
          ]
        }
      ]
    },
    {
      "cell_type": "code",
      "source": [
        "# adding multiple records  to student table,\n",
        "# this is a list with each record as tuple\n",
        "my_data=[(None, 'Big John', 'Four', 55, 'female'),\n",
        "(None, 'Ronald', 'Six', 89, 'female'),\n",
        "(None, 'ONe more', 'Six', 89, 'female')]\n",
        "\n",
        "my_query=\"INSERT INTO student values(?,?,?,?,?) \"\n",
        "result=my_conn.execute(my_query,my_data)\n",
        "print(result.lastrowid)\n",
        "print(result.rowcount)"
      ],
      "metadata": {
        "colab": {
          "base_uri": "https://localhost:8080/"
        },
        "id": "h1IR8DvRnOFW",
        "outputId": "763457de-1363-451a-8458-5fafbdd35bde"
      },
      "execution_count": null,
      "outputs": [
        {
          "output_type": "stream",
          "name": "stdout",
          "text": [
            "None\n",
            "3\n"
          ]
        }
      ]
    },
    {
      "cell_type": "code",
      "source": [
        "# Delete sample table student\n",
        "from sqlalchemy.exc import SQLAlchemyError\n",
        "try:\n",
        "  my_conn.execute('''DROP table student;''')\n",
        "  print(\"student table deleted\")\n",
        "except SQLAlchemyError as e:\n",
        "  #print(e)\n",
        "  error = str(e.__dict__['orig'])\n",
        "  print(error)"
      ],
      "metadata": {
        "colab": {
          "base_uri": "https://localhost:8080/"
        },
        "id": "evxRRTzDnQ-g",
        "outputId": "a246d972-b96d-42e2-b4f4-3fc15166ff88"
      },
      "execution_count": null,
      "outputs": [
        {
          "output_type": "stream",
          "name": "stdout",
          "text": [
            "student table deleted\n"
          ]
        }
      ]
    },
    {
      "cell_type": "code",
      "source": [
        "# creating student table \n",
        "from sqlalchemy.exc import SQLAlchemyError\n",
        "try:\n",
        "    my_conn.execute('''\n",
        "        CREATE TABLE IF NOT EXISTS student(id integer primary key, \n",
        "                      name text, \n",
        "                      class text, \n",
        "                      mark integer, \n",
        "                      sex text \n",
        "                      );''')\n",
        "    \n",
        "    print(\"Student Table created successfully\")\n",
        "except SQLAlchemyError as e:\n",
        "  #print(e)\n",
        "  error = str(e.__dict__['orig'])\n",
        "  print(error)   "
      ],
      "metadata": {
        "colab": {
          "base_uri": "https://localhost:8080/"
        },
        "id": "FFQb5PPrnT5D",
        "outputId": "1f78b580-03c8-4e5c-c8a0-464fbb0bba72"
      },
      "execution_count": null,
      "outputs": [
        {
          "output_type": "stream",
          "name": "stdout",
          "text": [
            "Student Table created successfully\n"
          ]
        }
      ]
    },
    {
      "cell_type": "code",
      "source": [
        "#  add records to student table\n",
        "r_set=my_conn.execute('''INSERT INTO `student` \n",
        "(`id`, `name`, `class`, `mark`, `sex`) VALUES\n",
        "(1, 'John Deo', 'Four', 75, 'female'),\n",
        "(2, 'Max Ruin', 'Three', 85, 'male'),\n",
        "(3, 'Arnold', 'Three', 55, 'male'),\n",
        "(4, 'Krish Star', 'Four', 60, 'female'),\n",
        "(5, 'John Mike', 'Four', 60, 'female'),\n",
        "(6, 'Alex John', 'Four', 55, 'male'),\n",
        "(7, 'My John Rob', 'Five', 78, 'male'),\n",
        "(8, 'Asruid', 'Five', 85, 'male'),\n",
        "(9, 'Tes Qry', 'Six', 78, 'male'),\n",
        "(10, 'Big John', 'Four', 55, 'female'),\n",
        "(11, 'Ronald', 'Six', 89, 'female'),\n",
        "(12, 'Recky', 'Six', 94, 'female'),\n",
        "(13, 'Kty', 'Seven', 88, 'female'),\n",
        "(14, 'Bigy', 'Seven', 88, 'female'),\n",
        "(15, 'Tade Row', 'Four', 88, 'male'),\n",
        "(16, 'Gimmy', 'Four', 88, 'male'),\n",
        "(17, 'Tumyu', 'Six', 54, 'male'),\n",
        "(18, 'Honny', 'Five', 75, 'male'),\n",
        "(19, 'Tinny', 'Nine', 18, 'male'),\n",
        "(20, 'Jackly', 'Nine', 65, 'female'),\n",
        "(21, 'Babby John', 'Four', 69, 'female'),\n",
        "(22, 'Reggid', 'Seven', 55, 'female'),\n",
        "(23, 'Herod', 'Eight', 79, 'male'),\n",
        "(24, 'Tiddy Now', 'Seven', 78, 'male'),\n",
        "(25, 'Giff Tow', 'Seven', 88, 'male'),\n",
        "(26, 'Crelea', 'Seven', 79, 'male'),\n",
        "(27, 'Big Nose', 'Three', 81, 'female'),\n",
        "(28, 'Rojj Base', 'Seven', 86, 'female'),\n",
        "(29, 'Tess Played', 'Seven', 55, 'male'),\n",
        "(30, 'Reppy Red', 'Six', 79, 'female'),\n",
        "(31, 'Marry Toeey', 'Four', 88, 'male'),\n",
        "(32, 'Binn Rott', 'Seven', 90, 'female'),\n",
        "(33, 'Kenn Rein', 'Six', 96, 'female'),\n",
        "(34, 'Gain Toe', 'Seven', 69, 'male'),\n",
        "(35, 'Rows Noump', 'Six', 88, 'female');''')"
      ],
      "metadata": {
        "id": "J7lUdLbdnXl_"
      },
      "execution_count": null,
      "outputs": []
    },
    {
      "cell_type": "markdown",
      "source": [
        "###Delete"
      ],
      "metadata": {
        "id": "nqNqUl_drikh"
      }
    },
    {
      "cell_type": "code",
      "source": [
        "# To delete table\n",
        "from sqlalchemy.exc import SQLAlchemyError\n",
        "try:\n",
        "  my_conn.execute(''' DROP table student ''')\n",
        "except SQLAlchemyError as e:\n",
        "  error=str(e.__dict__['orig'])\n",
        "  print(error)\n",
        "else:\n",
        "  print('Student table is deleted')\n",
        "finally:\n",
        "  my_conn.dispose()"
      ],
      "metadata": {
        "id": "xnqGR5Dqn3f3"
      },
      "execution_count": null,
      "outputs": []
    },
    {
      "cell_type": "code",
      "source": [
        "# To delete record\n",
        "from sqlalchemy.exc import SQLAlchemyError\n",
        "q=\"DELETE FROM student WHERE id=5\"\n",
        "try:\n",
        "  r_set=my_conn.execute(q)\n",
        "except SQLAlchemyError as e:\n",
        "  error=str(e.__dict__['orig'])\n",
        "  print(error)\n",
        "else:\n",
        "  print(\"No of records deleted : \",r_set.rowcount)"
      ],
      "metadata": {
        "id": "KwoiD68XoAzo"
      },
      "execution_count": null,
      "outputs": []
    },
    {
      "cell_type": "code",
      "source": [
        "# To delete record by conditions\n",
        "from sqlalchemy.exc import SQLAlchemyError\n",
        "my_data=(\"Five\",)\n",
        "q=\"DELETE FROM student WHERE class=?\"\n",
        "try:\n",
        "  r_set=my_conn.execute(q,my_data)\n",
        "except SQLAlchemyError as e:\n",
        "  error=str(e.__dict__['orig'])\n",
        "  print(error)\n",
        "else:\n",
        "  print(\"No of records deleted : \",r_set.rowcount)"
      ],
      "metadata": {
        "id": "r2_IdiKDoquY"
      },
      "execution_count": null,
      "outputs": []
    },
    {
      "cell_type": "code",
      "source": [
        "# To delete record by conditions\n",
        "from sqlalchemy.exc import SQLAlchemyError\n",
        "my_data=(\"Six\",\"Seven\")\n",
        "q=\"DELETE FROM student WHERE class=? OR class=? \"\n",
        "try:\n",
        "  r_set=my_conn.execute(q,my_data)\n",
        "except SQLAlchemyError as e:\n",
        "  error=str(e.__dict__['orig'])\n",
        "  print(error)\n",
        "else:\n",
        "  print(\"No of records deleted : \",r_set.rowcount)"
      ],
      "metadata": {
        "id": "EuDlrukhoird"
      },
      "execution_count": null,
      "outputs": []
    },
    {
      "cell_type": "code",
      "source": [
        "# Removing all records. SQLite does not support TRUNCATE command.\n",
        "from sqlalchemy.exc import SQLAlchemyError\n",
        "q=\"DELETE FROM student\"\n",
        "try:\n",
        "  r_set=my_conn.execute(q)\n",
        "except SQLAlchemyError as e:\n",
        "  error=str(e.__dict__['orig'])\n",
        "  print(error)\n",
        "else:\n",
        "  print(\"No of records deleted : \",r_set.rowcount)"
      ],
      "metadata": {
        "id": "nZUCSQx7ouZF"
      },
      "execution_count": null,
      "outputs": []
    },
    {
      "cell_type": "markdown",
      "source": [
        "###Distinct"
      ],
      "metadata": {
        "id": "RUqlS9HarcwL"
      }
    },
    {
      "cell_type": "code",
      "source": [
        "from sqlalchemy.exc import SQLAlchemyError\n",
        "q=\"SELECT DISTINCT(class)  FROM student\"\n",
        "try:\n",
        "  r_set=my_conn.execute(q)\n",
        "  data=r_set.fetchall()\n",
        "  for row in data:\n",
        "    print(row[0])\n",
        "except SQLAlchemyError as e:\n",
        "  error=str(e.__dict__['orig'])\n",
        "  print(error)\n",
        "else:\n",
        "  print(\"No of records displayed : \",len(data))"
      ],
      "metadata": {
        "colab": {
          "base_uri": "https://localhost:8080/"
        },
        "id": "ILwPvG_srC3B",
        "outputId": "fcd17277-4768-41cd-d644-8808f5831a56"
      },
      "execution_count": null,
      "outputs": [
        {
          "output_type": "stream",
          "name": "stdout",
          "text": [
            "Four\n",
            "Three\n",
            "Five\n",
            "Six\n",
            "Seven\n",
            "Nine\n",
            "Eight\n",
            "No of records displayed :  7\n"
          ]
        }
      ]
    },
    {
      "cell_type": "code",
      "source": [
        "from sqlalchemy.exc import SQLAlchemyError\n",
        "q=\"SELECT DISTINCT(class)  FROM student WHERE mark>=80\"\n",
        "try:\n",
        "  r_set=my_conn.execute(q)\n",
        "  data=r_set.fetchall()\n",
        "  for row in data:\n",
        "    print(row[0])\n",
        "except SQLAlchemyError as e:\n",
        "  error=str(e.__dict__['orig'])\n",
        "  print(error)\n",
        "else:\n",
        "  print(\"No of records displayed : \",len(data))"
      ],
      "metadata": {
        "colab": {
          "base_uri": "https://localhost:8080/"
        },
        "id": "O7jKL-8TrFis",
        "outputId": "554bfe71-572e-4ef1-d681-0fdccfe42122"
      },
      "execution_count": null,
      "outputs": [
        {
          "output_type": "stream",
          "name": "stdout",
          "text": [
            "Three\n",
            "Five\n",
            "Six\n",
            "Seven\n",
            "Four\n",
            "No of records displayed :  5\n"
          ]
        }
      ]
    },
    {
      "cell_type": "code",
      "source": [
        "from sqlalchemy.exc import SQLAlchemyError\n",
        "q=\"SELECT DISTINCT(class)  FROM student order by class\"\n",
        "try:\n",
        "  r_set=my_conn.execute(q)\n",
        "  data=r_set.fetchall()\n",
        "  for row in data:\n",
        "    print(row[0])\n",
        "except SQLAlchemyError as e:\n",
        "  error=str(e.__dict__['orig'])\n",
        "  print(error)\n",
        "else:\n",
        "  print(\"No of records displayed : \",len(data))"
      ],
      "metadata": {
        "colab": {
          "base_uri": "https://localhost:8080/"
        },
        "id": "2R3feJMdrHYk",
        "outputId": "e193b88f-d3e2-4500-9201-65207508ace1"
      },
      "execution_count": null,
      "outputs": [
        {
          "output_type": "stream",
          "name": "stdout",
          "text": [
            "Eight\n",
            "Five\n",
            "Four\n",
            "Nine\n",
            "Seven\n",
            "Six\n",
            "Three\n",
            "No of records displayed :  7\n"
          ]
        }
      ]
    },
    {
      "cell_type": "code",
      "source": [
        "from sqlalchemy.exc import SQLAlchemyError\n",
        "q=\"SELECT DISTINCT class,sex  FROM student order by class\"\n",
        "try:\n",
        "  r_set=my_conn.execute(q)\n",
        "  data=r_set.fetchall()\n",
        "  for row in data:\n",
        "    print(row[0],row[1])\n",
        "except SQLAlchemyError as e:\n",
        "  error=str(e.__dict__['orig'])\n",
        "  print(error)\n",
        "else:\n",
        "  print(\"No of records displayed : \",len(data))"
      ],
      "metadata": {
        "colab": {
          "base_uri": "https://localhost:8080/"
        },
        "id": "63ltHz_8rJTF",
        "outputId": "df936407-7c01-4434-bc29-6040ce1d3f30"
      },
      "execution_count": null,
      "outputs": [
        {
          "output_type": "stream",
          "name": "stdout",
          "text": [
            "Eight male\n",
            "Five male\n",
            "Four female\n",
            "Four male\n",
            "Nine male\n",
            "Nine female\n",
            "Seven female\n",
            "Seven male\n",
            "Six male\n",
            "Six female\n",
            "Three male\n",
            "Three female\n",
            "No of records displayed :  12\n"
          ]
        }
      ]
    },
    {
      "cell_type": "markdown",
      "source": [
        "###Update"
      ],
      "metadata": {
        "id": "csB30uPrrZb2"
      }
    },
    {
      "cell_type": "code",
      "source": [
        "from sqlalchemy.exc import SQLAlchemyError\n",
        "q=\"UPDATE student SET mark=mark+1\"\n",
        "try:\n",
        "  r_set=my_conn.execute(q)\n",
        "except SQLAlchemyError as e:\n",
        "  error=str(e.__dict__['orig'])\n",
        "  print(error)\n",
        "else:\n",
        "  print(\"No of records updated : \",r_set.rowcount)"
      ],
      "metadata": {
        "colab": {
          "base_uri": "https://localhost:8080/"
        },
        "id": "b8uXHinurYcM",
        "outputId": "83b3514e-6382-490d-a518-bb575e97d996"
      },
      "execution_count": null,
      "outputs": [
        {
          "output_type": "stream",
          "name": "stdout",
          "text": [
            "No of records updated :  35\n"
          ]
        }
      ]
    },
    {
      "cell_type": "code",
      "source": [
        "from sqlalchemy.exc import SQLAlchemyError\n",
        "q=\"UPDATE student SET mark=mark+1 WHERE id=7\"\n",
        "try:\n",
        "  r_set=my_conn.execute(q)\n",
        "except SQLAlchemyError as e:\n",
        "  error=str(e.__dict__['orig'])\n",
        "  print(error)\n",
        "else:\n",
        "  print(\"No of records updated : \",r_set.rowcount)"
      ],
      "metadata": {
        "colab": {
          "base_uri": "https://localhost:8080/"
        },
        "id": "Mx9D34MLrmdx",
        "outputId": "4c258fd9-ab54-4c46-9ba1-e13c49309026"
      },
      "execution_count": null,
      "outputs": [
        {
          "output_type": "stream",
          "name": "stdout",
          "text": [
            "No of records updated :  1\n"
          ]
        }
      ]
    },
    {
      "cell_type": "code",
      "source": [
        "from sqlalchemy.exc import SQLAlchemyError\n",
        "q=\"UPDATE student SET mark=mark+1 WHERE class='Four'\"\n",
        "try:\n",
        "  r_set=my_conn.execute(q)\n",
        "except SQLAlchemyError as e:\n",
        "  error=str(e.__dict__['orig'])\n",
        "  print(error)\n",
        "else:\n",
        "  print(\"No of records updated : \",r_set.rowcount)"
      ],
      "metadata": {
        "colab": {
          "base_uri": "https://localhost:8080/"
        },
        "id": "9MbyC_5hrotN",
        "outputId": "3d6cbf2f-f0a9-4b85-cc56-3e8d05e586c2"
      },
      "execution_count": null,
      "outputs": [
        {
          "output_type": "stream",
          "name": "stdout",
          "text": [
            "No of records updated :  9\n"
          ]
        }
      ]
    },
    {
      "cell_type": "code",
      "source": [
        "from sqlalchemy.exc import SQLAlchemyError\n",
        "q=\"UPDATE student SET class='Four' WHERE class='Three'\"\n",
        "try:\n",
        "  r_set=my_conn.execute(q)\n",
        "except SQLAlchemyError as e:\n",
        "  error=str(e.__dict__['orig'])\n",
        "  print(error)\n",
        "else:\n",
        "  print(\"No of records updated : \",r_set.rowcount)"
      ],
      "metadata": {
        "colab": {
          "base_uri": "https://localhost:8080/"
        },
        "id": "9HIVylnRrquh",
        "outputId": "0ff9c23a-96b0-4c40-ef77-674083147719"
      },
      "execution_count": null,
      "outputs": [
        {
          "output_type": "stream",
          "name": "stdout",
          "text": [
            "No of records updated :  3\n"
          ]
        }
      ]
    },
    {
      "cell_type": "code",
      "source": [
        "from sqlalchemy.exc import SQLAlchemyError\n",
        "id=input(\"Enter student id : \")\n",
        "my_data=(id,)\n",
        "q=\"UPDATE student SET mark=mark+5 WHERE id=?\"\n",
        "try:\n",
        "  r_set=my_conn.execute(q,my_data)\n",
        "except SQLAlchemyError as e:\n",
        "  error=str(e.__dict__['orig'])\n",
        "  print(error)\n",
        "else:\n",
        "  print(\"No of records updated : \",r_set.rowcount)"
      ],
      "metadata": {
        "colab": {
          "base_uri": "https://localhost:8080/"
        },
        "id": "l9xMkojPrsl4",
        "outputId": "a0157377-19a0-48ca-ffa8-0cb1256632df"
      },
      "execution_count": null,
      "outputs": [
        {
          "output_type": "stream",
          "name": "stdout",
          "text": [
            "Enter student id : 11\n",
            "No of records updated :  1\n"
          ]
        }
      ]
    },
    {
      "cell_type": "code",
      "source": [
        "from sqlalchemy.exc import SQLAlchemyError\n",
        "my_data=('Six','Seven')\n",
        "q=\"UPDATE student SET class=? WHERE class=?\"\n",
        "try:\n",
        "  r_set=my_conn.execute(q,my_data)\n",
        "except SQLAlchemyError as e:\n",
        "  error=str(e.__dict__['orig'])\n",
        "  print(error)\n",
        "else:\n",
        "  print(\"No of records updated : \",r_set.rowcount)"
      ],
      "metadata": {
        "colab": {
          "base_uri": "https://localhost:8080/"
        },
        "id": "G87o-P1GryJU",
        "outputId": "5192be8e-d515-4e95-bcd9-df8e41077483"
      },
      "execution_count": null,
      "outputs": [
        {
          "output_type": "stream",
          "name": "stdout",
          "text": [
            "No of records updated :  10\n"
          ]
        }
      ]
    },
    {
      "cell_type": "markdown",
      "source": [
        "###Insert"
      ],
      "metadata": {
        "id": "nWzLJG1ssDSJ"
      }
    },
    {
      "cell_type": "code",
      "source": [
        "from sqlalchemy.exc import SQLAlchemyError\n",
        "q=\"INSERT INTO student VALUES(null,'First Name','Four',50,'Male')\"\n",
        "try:\n",
        "  r_set=my_conn.execute(q)  \n",
        "except SQLAlchemyError as e:\n",
        "  error=str(e.__dict__['orig'])\n",
        "  print(error)\n",
        "else:\n",
        "  print(\"Number of rows added: \",r_set.rowcount) \n",
        "  print(\"ID of the last inserted row : \",r_set.lastrowid)"
      ],
      "metadata": {
        "colab": {
          "base_uri": "https://localhost:8080/"
        },
        "id": "s79dZhphsE8Z",
        "outputId": "e405790e-8bdc-4923-bc64-2a1731967cbe"
      },
      "execution_count": null,
      "outputs": [
        {
          "output_type": "stream",
          "name": "stdout",
          "text": [
            "Number of rows added:  1\n",
            "ID of the last inserted row :  36\n"
          ]
        }
      ]
    },
    {
      "cell_type": "code",
      "source": [
        "from sqlalchemy.exc import SQLAlchemyError\n",
        "my_data=(None,'Second Name','Four',60,'Female')\n",
        "q=\"INSERT INTO student VALUES(?,?,?,?,?)\"\n",
        "try:\n",
        "  r_set=my_conn.execute(q,my_data)  \n",
        "except SQLAlchemyError as e:\n",
        "  error=str(e.__dict__['orig'])\n",
        "  print(error)\n",
        "else:\n",
        "  print(\"Number of rows added: \",r_set.rowcount) \n",
        "  print(\"ID of the last inserted row : \",r_set.lastrowid)"
      ],
      "metadata": {
        "colab": {
          "base_uri": "https://localhost:8080/"
        },
        "id": "ygM7GlF4sHrw",
        "outputId": "da393eba-4c39-400e-94a3-929761e98922"
      },
      "execution_count": null,
      "outputs": [
        {
          "output_type": "stream",
          "name": "stdout",
          "text": [
            "Number of rows added:  1\n",
            "ID of the last inserted row :  37\n"
          ]
        }
      ]
    },
    {
      "cell_type": "code",
      "source": [
        "from sqlalchemy.exc import SQLAlchemyError\n",
        "my_data=[(None, 'Tes Qry', 'Six', 78, 'male'),\n",
        "(None, 'Big John', 'Four', 55, 'female'),\n",
        "(None, 'Ronald', 'Six', 89, 'female'),\n",
        "(None, 'Recky', 'Six', 94, 'female'),\n",
        "(None, 'Kty', 'Seven', 88, 'female')]\n",
        "q=\"INSERT INTO student VALUES(?,?,?,?,?)\"\n",
        "try:\n",
        "  r_set=my_conn.execute(q,my_data)  \n",
        "except SQLAlchemyError as e:\n",
        "  error=str(e.__dict__['orig'])\n",
        "  print(error)\n",
        "else:\n",
        "  print(\"Number of rows added: \",r_set.rowcount) \n",
        "  print(\"ID of the last inserted row : \",r_set.lastrowid)"
      ],
      "metadata": {
        "colab": {
          "base_uri": "https://localhost:8080/"
        },
        "id": "IOdYpAHisJn1",
        "outputId": "b876b319-d783-44c5-d75f-de5b1cd6c86b"
      },
      "execution_count": null,
      "outputs": [
        {
          "output_type": "stream",
          "name": "stdout",
          "text": [
            "Number of rows added:  5\n",
            "ID of the last inserted row :  None\n"
          ]
        }
      ]
    },
    {
      "cell_type": "code",
      "source": [
        "q=\"SELECT * FROM STUDENT order by id desc limit 0,10\"\n",
        "r_set=my_conn.execute(q)\n",
        "for row in r_set:\n",
        "  print(row)"
      ],
      "metadata": {
        "colab": {
          "base_uri": "https://localhost:8080/"
        },
        "id": "0e4ypISQsMl9",
        "outputId": "e3be4634-4316-4af4-8875-940db7327716"
      },
      "execution_count": null,
      "outputs": [
        {
          "output_type": "stream",
          "name": "stdout",
          "text": [
            "(42, 'Kty', 'Seven', 88, 'female')\n",
            "(41, 'Recky', 'Six', 94, 'female')\n",
            "(40, 'Ronald', 'Six', 89, 'female')\n",
            "(39, 'Big John', 'Four', 55, 'female')\n",
            "(38, 'Tes Qry', 'Six', 78, 'male')\n",
            "(37, 'Second Name', 'Four', 60, 'Female')\n",
            "(36, 'First Name', 'Four', 50, 'Male')\n",
            "(35, 'Rows Noump', 'Six', 89, 'female')\n",
            "(34, 'Gain Toe', 'Six', 70, 'male')\n",
            "(33, 'Kenn Rein', 'Six', 97, 'female')\n"
          ]
        }
      ]
    },
    {
      "cell_type": "markdown",
      "source": [
        "###Between"
      ],
      "metadata": {
        "id": "KEmoAnXItDMY"
      }
    },
    {
      "cell_type": "code",
      "source": [
        "from sqlalchemy.exc import SQLAlchemyError\n",
        "q=\"SELECT * FROM student WHERE mark BETWEEN 65 AND 75\"\n",
        "try:\n",
        "  r_set=my_conn.execute(q)  \n",
        "  r_list=r_set.fetchall()\n",
        "  for row in r_list:\n",
        "    print(row)\n",
        "except SQLAlchemyError as e:\n",
        "  error=str(e.__dict__['orig'])\n",
        "  print(error)\n",
        "else:\n",
        "  print(\"Total Number of rows : \",len(r_list))"
      ],
      "metadata": {
        "colab": {
          "base_uri": "https://localhost:8080/"
        },
        "id": "2DIztQlytCJb",
        "outputId": "f323a70e-b753-4b39-a47a-a8052d7986d3"
      },
      "execution_count": null,
      "outputs": [
        {
          "output_type": "stream",
          "name": "stdout",
          "text": [
            "(20, 'Jackly', 'Nine', 66, 'female')\n",
            "(21, 'Babby John', 'Four', 71, 'female')\n",
            "(34, 'Gain Toe', 'Six', 70, 'male')\n",
            "Total Number of rows :  3\n"
          ]
        }
      ]
    },
    {
      "cell_type": "code",
      "source": [
        "from sqlalchemy.exc import SQLAlchemyError\n",
        "my_tuple=(65,75)\n",
        "q=\"SELECT * FROM student WHERE mark BETWEEN ? AND ?\"\n",
        "try:\n",
        "  r_set=my_conn.execute(q,my_tuple)  \n",
        "  r_list=r_set.fetchall()\n",
        "  for row in r_list:\n",
        "    print(row)\n",
        "except SQLAlchemyError as e:\n",
        "  error=str(e.__dict__['orig'])\n",
        "  print(error)\n",
        "else:\n",
        "  print(\"Total Number of rows : \",len(r_list))"
      ],
      "metadata": {
        "colab": {
          "base_uri": "https://localhost:8080/"
        },
        "id": "EtGwmaT9tHcg",
        "outputId": "b0ee1840-c871-4dd3-fd80-ad543373cd34"
      },
      "execution_count": null,
      "outputs": [
        {
          "output_type": "stream",
          "name": "stdout",
          "text": [
            "(20, 'Jackly', 'Nine', 66, 'female')\n",
            "(21, 'Babby John', 'Four', 71, 'female')\n",
            "(34, 'Gain Toe', 'Six', 70, 'male')\n",
            "Total Number of rows :  3\n"
          ]
        }
      ]
    },
    {
      "cell_type": "code",
      "source": [
        "from sqlalchemy.exc import SQLAlchemyError\n",
        "my_tuple=(25,90)\n",
        "q=\"SELECT * FROM student WHERE mark NOT BETWEEN ? AND ?\"\n",
        "try:\n",
        "  r_set=my_conn.execute(q,my_tuple)  \n",
        "  r_list=r_set.fetchall()\n",
        "  for row in r_list:\n",
        "    print(row)\n",
        "except SQLAlchemyError as e:\n",
        "  error=str(e.__dict__['orig'])\n",
        "  print(error)\n",
        "else:\n",
        "  print(\"Total Number of rows : \",len(r_list))"
      ],
      "metadata": {
        "colab": {
          "base_uri": "https://localhost:8080/"
        },
        "id": "snCCmaSatJ0E",
        "outputId": "35d858ae-7a1e-4eb1-a56a-3c4102ef8cb7"
      },
      "execution_count": null,
      "outputs": [
        {
          "output_type": "stream",
          "name": "stdout",
          "text": [
            "(11, 'Ronald', 'Six', 95, 'female')\n",
            "(12, 'Recky', 'Six', 95, 'female')\n",
            "(19, 'Tinny', 'Nine', 19, 'male')\n",
            "(32, 'Binn Rott', 'Six', 91, 'female')\n",
            "(33, 'Kenn Rein', 'Six', 97, 'female')\n",
            "(41, 'Recky', 'Six', 94, 'female')\n",
            "Total Number of rows :  6\n"
          ]
        }
      ]
    },
    {
      "cell_type": "markdown",
      "source": [
        "###Order By"
      ],
      "metadata": {
        "id": "zusTeh--tWH5"
      }
    },
    {
      "cell_type": "code",
      "source": [
        "from sqlalchemy.exc import SQLAlchemyError\n",
        "q=\"SELECT * FROM student WHERE class='Five' ORDER BY mark DESC\"\n",
        "try:\n",
        "  r_set=my_conn.execute(q)  \n",
        "  r_list=r_set.fetchall()\n",
        "  for rows in r_list:\n",
        "    print(rows)\n",
        "except SQLAlchemyError as e:\n",
        "  error=str(e.__dict__['orig'])\n",
        "  print(error)\n",
        "else:\n",
        "  print(\"Total Number of rows : \",len(r_list))"
      ],
      "metadata": {
        "colab": {
          "base_uri": "https://localhost:8080/"
        },
        "id": "fLTJ4DtTtfDQ",
        "outputId": "562a4690-7c25-4891-ad3f-a4d9e3f0287d"
      },
      "execution_count": null,
      "outputs": [
        {
          "output_type": "stream",
          "name": "stdout",
          "text": [
            "(8, 'Asruid', 'Five', 86, 'male')\n",
            "(7, 'My John Rob', 'Five', 80, 'male')\n",
            "(18, 'Honny', 'Five', 76, 'male')\n",
            "Total Number of rows :  3\n"
          ]
        }
      ]
    },
    {
      "cell_type": "code",
      "source": [
        "from sqlalchemy.exc import SQLAlchemyError\n",
        "q=\"SELECT * FROM student WHERE class='Five' ORDER BY mark DESC LIMIT 1,1\"\n",
        "try:\n",
        "  r_set=my_conn.execute(q)  \n",
        "  r_list=r_set.fetchall()\n",
        "  for rows in r_list:\n",
        "    print(rows)\n",
        "except SQLAlchemyError as e:\n",
        "  error=str(e.__dict__['orig'])\n",
        "  print(error)\n",
        "else:\n",
        "  print(\"Total Number of rows : \",len(r_list))"
      ],
      "metadata": {
        "id": "vwI49IWptrCE",
        "outputId": "607e1f36-9a75-48b4-de1e-c45535187578",
        "colab": {
          "base_uri": "https://localhost:8080/"
        }
      },
      "execution_count": null,
      "outputs": [
        {
          "output_type": "stream",
          "name": "stdout",
          "text": [
            "(7, 'My John Rob', 'Five', 80, 'male')\n",
            "Total Number of rows :  1\n"
          ]
        }
      ]
    },
    {
      "cell_type": "markdown",
      "source": [
        "### Reference\n",
        "\n",
        "Download database\n",
        "\n",
        "https://www.plus2net.com/python/sqlite-colab.php\n",
        "\n",
        "\n",
        "List of Python SQLite tutorial videos\n",
        "\n",
        "https://www.plus2net.com/python/python-sqlite-video.php\n",
        "\n",
        "https://www.plus2net.com/python/sqlite.php\n",
        "\n",
        "https://www.youtube.com/playlist?list=PLzz7R3Slbh5TI4RVHqapk3PUBmoW5JE_z\n",
        "\n",
        "https://www.plus2net.com/python/sqlite-delete-sqlalchemy.php\n",
        "\n",
        "https://www.plus2net.com/python/sqlite-distinct.php\n",
        "\n",
        "https://www.plus2net.com/python/sqlite-update.php\n",
        "\n",
        "https://www.plus2net.com/python/sqlite-insert-sqlalchemy.php\n",
        "\n",
        "https://www.plus2net.com/python/sqlite-between.php"
      ],
      "metadata": {
        "id": "9BpYVWc6pIO4"
      }
    },
    {
      "cell_type": "markdown",
      "source": [
        "Creating Database\n",
        "\n",
        "https://www.plus2net.com/python/sqlite.php\n",
        "\n",
        "https://www.plus2net.com/python/sqlite-connection.php#data_student\n",
        "\n",
        "https://github.com/kiranbeethoju/TeachingMachine/blob/master/SQLite3_Novice.ipynb"
      ],
      "metadata": {
        "id": "cCBhDerc1qaD"
      }
    },
    {
      "cell_type": "code",
      "source": [
        "import sqlite3\n",
        "my_conn = sqlite3.connect('new_db')\n",
        "print(\"Created database successfully\");"
      ],
      "metadata": {
        "colab": {
          "base_uri": "https://localhost:8080/"
        },
        "id": "AHbmpPccy760",
        "outputId": "38b62b5b-4d64-48f8-d258-83b66ce5c509"
      },
      "execution_count": 45,
      "outputs": [
        {
          "output_type": "stream",
          "name": "stdout",
          "text": [
            "Created database successfully\n"
          ]
        }
      ]
    },
    {
      "cell_type": "code",
      "source": [
        "my_conn.execute('''\n",
        "CREATE TABLE IF NOT EXISTS Lerners(id integer primary key, \n",
        "                      name text, \n",
        "                      class text, \n",
        "                      mark integer, \n",
        "                      gender text \n",
        "                      );''')\n",
        "my_conn.commit()\n",
        "print(\"Lerners Table created successfully\");"
      ],
      "metadata": {
        "colab": {
          "base_uri": "https://localhost:8080/"
        },
        "id": "K7aw6TdgzCla",
        "outputId": "ef6d8f5d-cc62-44a0-ee8c-27a0e4ca08e5"
      },
      "execution_count": 46,
      "outputs": [
        {
          "output_type": "stream",
          "name": "stdout",
          "text": [
            "Lerners Table created successfully\n"
          ]
        }
      ]
    },
    {
      "cell_type": "code",
      "source": [
        "r_set=my_conn.execute('''PRAGMA table_info(Lerners);''')\n",
        "for row in r_set:\n",
        "    print(row)"
      ],
      "metadata": {
        "colab": {
          "base_uri": "https://localhost:8080/"
        },
        "id": "HHPZyVXUzRcz",
        "outputId": "b108e059-40a6-4ee1-d7ff-2dc92552d98a"
      },
      "execution_count": 47,
      "outputs": [
        {
          "output_type": "stream",
          "name": "stdout",
          "text": [
            "(0, 'id', 'integer', 0, None, 1)\n",
            "(1, 'name', 'text', 0, None, 0)\n",
            "(2, 'class', 'text', 0, None, 0)\n",
            "(3, 'mark', 'integer', 0, None, 0)\n",
            "(4, 'gender', 'text', 0, None, 0)\n"
          ]
        }
      ]
    },
    {
      "cell_type": "code",
      "source": [
        "l1=my_conn.execute(\"PRAGMA table_info(Lerners);\")\n",
        "columns=[r[1] for r in l1] # list of column headers of the table"
      ],
      "metadata": {
        "id": "qKYZ72Jzzc3K"
      },
      "execution_count": 48,
      "outputs": []
    },
    {
      "cell_type": "code",
      "source": [
        "r_set=my_conn.execute(\n",
        "    '''INSERT INTO `Lerners` \n",
        "  (`id`, `name`, `class`, `mark`, `gender`) VALUES\n",
        "  (1, 'John Deo', 'Four', 75, 'female'),\n",
        "  (2, 'Max Ruin', 'Three', 85, 'male'),\n",
        "  (3, 'Arnold', 'Three', 55, 'male'),\n",
        "  (4, 'Krish Star', 'Four', 60, 'female'),\n",
        "  (5, 'John Mike', 'Four', 60, 'female'),\n",
        "  (6, 'Alex John', 'Four', 55, 'male'),\n",
        "  (7, 'My John Rob', 'Five', 78, 'male'),\n",
        "  (8, 'Asruid', 'Five', 85, 'male'),\n",
        "  (9, 'Tes Qry', 'Six', 78, 'male'),\n",
        "  (10, 'Big John', 'Four', 55, 'female'),\n",
        "  (11, 'Ronald', 'Six', 89, 'female'),\n",
        "  (12, 'Recky', 'Six', 94, 'female'),\n",
        "  (13, 'Kty', 'Seven', 88, 'female'),\n",
        "  (14, 'Bigy', 'Seven', 88, 'female'),\n",
        "  (15, 'Tade Row', 'Four', 88, 'male'),\n",
        "  (16, 'Gimmy', 'Four', 88, 'male'),\n",
        "  (17, 'Tumyu', 'Six', 54, 'male'),\n",
        "  (18, 'Honny', 'Five', 75, 'male'),\n",
        "  (19, 'Tinny', 'Nine', 18, 'male'),\n",
        "  (20, 'Jackly', 'Nine', 65, 'female'),\n",
        "  (21, 'Babby John', 'Four', 69, 'female'),\n",
        "  (22, 'Reggid', 'Seven', 55, 'female'),\n",
        "  (23, 'Herod', 'Eight', 79, 'male'),\n",
        "  (24, 'Tiddy Now', 'Seven', 78, 'male'),\n",
        "  (25, 'Giff Tow', 'Seven', 88, 'male'),\n",
        "  (26, 'Crelea', 'Seven', 79, 'male'),\n",
        "  (27, 'Big Nose', 'Three', 81, 'female'),\n",
        "  (28, 'Rojj Base', 'Seven', 86, 'female'),\n",
        "  (29, 'Tess Played', 'Seven', 55, 'male'),\n",
        "  (30, 'Reppy Red', 'Six', 79, 'female'),\n",
        "  (31, 'Marry Toeey', 'Four', 88, 'male'),\n",
        "  (32, 'Binn Rott', 'Seven', 90, 'female'),\n",
        "  (33, 'Kenn Rein', 'Six', 96, 'female'),\n",
        "  (34, 'Gain Toe', 'Seven', 69, 'male'),\n",
        "  (35, 'Rows Noump', 'Six', 88, 'female');''')"
      ],
      "metadata": {
        "id": "iETGi-xf0Bys"
      },
      "execution_count": 49,
      "outputs": []
    },
    {
      "cell_type": "code",
      "source": [
        "r_set=my_conn.execute('''SELECT * from Lerners LIMIT 2''');\n",
        "for row in r_set:\n",
        "    print(row)"
      ],
      "metadata": {
        "colab": {
          "base_uri": "https://localhost:8080/"
        },
        "id": "hPjY3sKz0YrB",
        "outputId": "9a74fc3b-3636-4069-a14d-21d3f5beef56"
      },
      "execution_count": 52,
      "outputs": [
        {
          "output_type": "stream",
          "name": "stdout",
          "text": [
            "(1, 'John Deo', 'Four', 75, 'female')\n",
            "(2, 'Max Ruin', 'Three', 85, 'male')\n"
          ]
        }
      ]
    },
    {
      "cell_type": "code",
      "source": [
        "import pandas as pd\n",
        "qry = \"\"\"\n",
        "\n",
        "SELECT * FROM Lerners\n",
        "\n",
        "\"\"\"\n",
        "df = pd.read_sql_query(qry, my_conn)\n",
        "df.head()"
      ],
      "metadata": {
        "colab": {
          "base_uri": "https://localhost:8080/",
          "height": 206
        },
        "id": "1-lr97cA289w",
        "outputId": "2216581b-c731-4e4a-9fdf-4739a72bc5d4"
      },
      "execution_count": 51,
      "outputs": [
        {
          "output_type": "execute_result",
          "data": {
            "text/plain": [
              "   id        name  class  mark  gender\n",
              "0   1    John Deo   Four    75  female\n",
              "1   2    Max Ruin  Three    85    male\n",
              "2   3      Arnold  Three    55    male\n",
              "3   4  Krish Star   Four    60  female\n",
              "4   5   John Mike   Four    60  female"
            ],
            "text/html": [
              "\n",
              "  <div id=\"df-0af64673-6b5e-47b1-bc87-55cd67208a3c\">\n",
              "    <div class=\"colab-df-container\">\n",
              "      <div>\n",
              "<style scoped>\n",
              "    .dataframe tbody tr th:only-of-type {\n",
              "        vertical-align: middle;\n",
              "    }\n",
              "\n",
              "    .dataframe tbody tr th {\n",
              "        vertical-align: top;\n",
              "    }\n",
              "\n",
              "    .dataframe thead th {\n",
              "        text-align: right;\n",
              "    }\n",
              "</style>\n",
              "<table border=\"1\" class=\"dataframe\">\n",
              "  <thead>\n",
              "    <tr style=\"text-align: right;\">\n",
              "      <th></th>\n",
              "      <th>id</th>\n",
              "      <th>name</th>\n",
              "      <th>class</th>\n",
              "      <th>mark</th>\n",
              "      <th>gender</th>\n",
              "    </tr>\n",
              "  </thead>\n",
              "  <tbody>\n",
              "    <tr>\n",
              "      <th>0</th>\n",
              "      <td>1</td>\n",
              "      <td>John Deo</td>\n",
              "      <td>Four</td>\n",
              "      <td>75</td>\n",
              "      <td>female</td>\n",
              "    </tr>\n",
              "    <tr>\n",
              "      <th>1</th>\n",
              "      <td>2</td>\n",
              "      <td>Max Ruin</td>\n",
              "      <td>Three</td>\n",
              "      <td>85</td>\n",
              "      <td>male</td>\n",
              "    </tr>\n",
              "    <tr>\n",
              "      <th>2</th>\n",
              "      <td>3</td>\n",
              "      <td>Arnold</td>\n",
              "      <td>Three</td>\n",
              "      <td>55</td>\n",
              "      <td>male</td>\n",
              "    </tr>\n",
              "    <tr>\n",
              "      <th>3</th>\n",
              "      <td>4</td>\n",
              "      <td>Krish Star</td>\n",
              "      <td>Four</td>\n",
              "      <td>60</td>\n",
              "      <td>female</td>\n",
              "    </tr>\n",
              "    <tr>\n",
              "      <th>4</th>\n",
              "      <td>5</td>\n",
              "      <td>John Mike</td>\n",
              "      <td>Four</td>\n",
              "      <td>60</td>\n",
              "      <td>female</td>\n",
              "    </tr>\n",
              "  </tbody>\n",
              "</table>\n",
              "</div>\n",
              "      <button class=\"colab-df-convert\" onclick=\"convertToInteractive('df-0af64673-6b5e-47b1-bc87-55cd67208a3c')\"\n",
              "              title=\"Convert this dataframe to an interactive table.\"\n",
              "              style=\"display:none;\">\n",
              "        \n",
              "  <svg xmlns=\"http://www.w3.org/2000/svg\" height=\"24px\"viewBox=\"0 0 24 24\"\n",
              "       width=\"24px\">\n",
              "    <path d=\"M0 0h24v24H0V0z\" fill=\"none\"/>\n",
              "    <path d=\"M18.56 5.44l.94 2.06.94-2.06 2.06-.94-2.06-.94-.94-2.06-.94 2.06-2.06.94zm-11 1L8.5 8.5l.94-2.06 2.06-.94-2.06-.94L8.5 2.5l-.94 2.06-2.06.94zm10 10l.94 2.06.94-2.06 2.06-.94-2.06-.94-.94-2.06-.94 2.06-2.06.94z\"/><path d=\"M17.41 7.96l-1.37-1.37c-.4-.4-.92-.59-1.43-.59-.52 0-1.04.2-1.43.59L10.3 9.45l-7.72 7.72c-.78.78-.78 2.05 0 2.83L4 21.41c.39.39.9.59 1.41.59.51 0 1.02-.2 1.41-.59l7.78-7.78 2.81-2.81c.8-.78.8-2.07 0-2.86zM5.41 20L4 18.59l7.72-7.72 1.47 1.35L5.41 20z\"/>\n",
              "  </svg>\n",
              "      </button>\n",
              "      \n",
              "  <style>\n",
              "    .colab-df-container {\n",
              "      display:flex;\n",
              "      flex-wrap:wrap;\n",
              "      gap: 12px;\n",
              "    }\n",
              "\n",
              "    .colab-df-convert {\n",
              "      background-color: #E8F0FE;\n",
              "      border: none;\n",
              "      border-radius: 50%;\n",
              "      cursor: pointer;\n",
              "      display: none;\n",
              "      fill: #1967D2;\n",
              "      height: 32px;\n",
              "      padding: 0 0 0 0;\n",
              "      width: 32px;\n",
              "    }\n",
              "\n",
              "    .colab-df-convert:hover {\n",
              "      background-color: #E2EBFA;\n",
              "      box-shadow: 0px 1px 2px rgba(60, 64, 67, 0.3), 0px 1px 3px 1px rgba(60, 64, 67, 0.15);\n",
              "      fill: #174EA6;\n",
              "    }\n",
              "\n",
              "    [theme=dark] .colab-df-convert {\n",
              "      background-color: #3B4455;\n",
              "      fill: #D2E3FC;\n",
              "    }\n",
              "\n",
              "    [theme=dark] .colab-df-convert:hover {\n",
              "      background-color: #434B5C;\n",
              "      box-shadow: 0px 1px 3px 1px rgba(0, 0, 0, 0.15);\n",
              "      filter: drop-shadow(0px 1px 2px rgba(0, 0, 0, 0.3));\n",
              "      fill: #FFFFFF;\n",
              "    }\n",
              "  </style>\n",
              "\n",
              "      <script>\n",
              "        const buttonEl =\n",
              "          document.querySelector('#df-0af64673-6b5e-47b1-bc87-55cd67208a3c button.colab-df-convert');\n",
              "        buttonEl.style.display =\n",
              "          google.colab.kernel.accessAllowed ? 'block' : 'none';\n",
              "\n",
              "        async function convertToInteractive(key) {\n",
              "          const element = document.querySelector('#df-0af64673-6b5e-47b1-bc87-55cd67208a3c');\n",
              "          const dataTable =\n",
              "            await google.colab.kernel.invokeFunction('convertToInteractive',\n",
              "                                                     [key], {});\n",
              "          if (!dataTable) return;\n",
              "\n",
              "          const docLinkHtml = 'Like what you see? Visit the ' +\n",
              "            '<a target=\"_blank\" href=https://colab.research.google.com/notebooks/data_table.ipynb>data table notebook</a>'\n",
              "            + ' to learn more about interactive tables.';\n",
              "          element.innerHTML = '';\n",
              "          dataTable['output_type'] = 'display_data';\n",
              "          await google.colab.output.renderOutput(dataTable, element);\n",
              "          const docLink = document.createElement('div');\n",
              "          docLink.innerHTML = docLinkHtml;\n",
              "          element.appendChild(docLink);\n",
              "        }\n",
              "      </script>\n",
              "    </div>\n",
              "  </div>\n",
              "  "
            ]
          },
          "metadata": {},
          "execution_count": 51
        }
      ]
    },
    {
      "cell_type": "markdown",
      "source": [
        "https://towardsdatascience.com/have-a-sql-interview-coming-up-ace-it-using-google-colab-6d3c0ffb29dc\n",
        "\n",
        "https://cloud.google.com/bigquery/docs/explore-data-colab"
      ],
      "metadata": {
        "id": "2sysS-2e-Wfx"
      }
    }
  ]
}